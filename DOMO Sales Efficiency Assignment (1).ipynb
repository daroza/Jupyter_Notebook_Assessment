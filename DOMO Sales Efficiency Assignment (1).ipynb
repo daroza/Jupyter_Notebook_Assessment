{
 "cells": [
  {
   "cell_type": "markdown",
   "metadata": {},
   "source": [
    "<h1 align=center><font size = 5>Sales Effeciency: Identifying variables that maximize sales and/or minimize travel costs</font></h1>\n",
    "<h2 align=center> Author: Esther Amullen </h2>"
   ]
  },
  {
   "cell_type": "code",
   "execution_count": null,
   "metadata": {},
   "outputs": [],
   "source": [
    "# Importing Libraries\n",
    "import pandas as pd\n",
    "import numpy as np\n",
    "import matplotlib.pyplot as plt\n",
    "import seaborn as sns\n",
    "from IPython.display import display\n",
    "from scipy import stats\n",
    "from IPython.html import widgets \n",
    "from IPython.display import display\n",
    "from ipywidgets import interact, interactive, fixed, interact_manual\n",
    "from sklearn.model_selection import train_test_split\n",
    "from sklearn.linear_model import LinearRegression\n",
    "from sklearn.model_selection import cross_val_score\n",
    "from sklearn.model_selection import cross_val_predict\n",
    "from sklearn.preprocessing import PolynomialFeatures\n",
    "from sklearn.pipeline import Pipeline\n",
    "from sklearn.preprocessing import StandardScaler\n",
    "from sklearn.metrics import mean_squared_error\n",
    "from sklearn.metrics import r2_score\n",
    "from sklearn.linear_model import Ridge\n",
    "from sklearn.model_selection import GridSearchCV"
   ]
  },
  {
   "cell_type": "markdown",
   "metadata": {},
   "source": [
    "<h3 align=center> Data Acquisition</h3>\n",
    "The first step in data analysis is data aquisition. Data acqusition refers loading data from given sources onto a the platorm to be used for data analysis. For this excecise, the data has been obtained from <a href =\"http://www.salvirt.com/?smd_process_download=1&download_id=4128\"> http://www.salvirt.com/?smd_process_download=1&download_id=4128 </a> and loaded onto a jupiter notebook.\n",
    "\n",
    "There are two steps involved in data acqusition inaddtion to importing necessary libraries such as Pandas. In the first step, a varibale called \"path\" is used to store the url containing the data. The second step reads the data and stores it into a Pandas datafram \"df\". The finals entails storing "
   ]
  },
  {
   "cell_type": "code",
   "execution_count": null,
   "metadata": {},
   "outputs": [],
   "source": [
    "# Reading the data into a pandas dataframe\n",
    "path=\"/home/eamullen/Salvirt_B2B_ML_dataset.csv\"\n",
    "df=pd.read_csv(path, sep=';', engine='python')\n",
    "print(df.head(10))\n",
    "# Save a local copy of the data\n",
    "df.to_csv(\"/home/eamullen/sales_data.csv\")"
   ]
  },
  {
   "cell_type": "markdown",
   "metadata": {},
   "source": [
    "The raw data is in the format csv. The data has been loaded and a local copy of the data saved to the local machine. The next stage of the project involves pre-exploring the data. The data has a total of 23 column headers designated features. "
   ]
  },
  {
   "cell_type": "markdown",
   "metadata": {},
   "source": [
    "<h3 align=center> Data Exploration </h3>\n",
    "Data exploration provides a basic understanding of the data under analysis. To explore the sales effeciency dataset, Pandas built in funtions are leveraged. Builtin fuctions such as dtypes provide insight into the datatype for each of the columns in the .cvs file. A preliminary examination of the datatypes enables identify datatypes that do not make sense and missing data types. "
   ]
  },
  {
   "cell_type": "code",
   "execution_count": null,
   "metadata": {},
   "outputs": [],
   "source": [
    "# Drop empty values from our data of interest\n",
    "df.dropna(subset=[\"Status\"], axis=0)\n",
    "print(df.dtypes)\n",
    "df.describe(include=\"all\")"
   ]
  },
  {
   "cell_type": "markdown",
   "metadata": {},
   "source": [
    "An initial overview of the datatypes for each of the features identifies shows that Pandas has identified them all as Objects. Columns such as Budget allocation and so forth have float64 data. At this point in the analysis data types are corrected. Specifically the data type for Budget allocation is changed to float64....\n",
    "In addition to columns with incorrect data types, there are columns with values designated unknown. Unknown values do not add add value to out analysis as a result these values can be removed from our analysis. For now the values will be replaced by NaN"
   ]
  },
  {
   "cell_type": "markdown",
   "metadata": {},
   "source": [
    "<h3 align=center> Data Wrangling </h3>\n",
    "Data wrangling maps data from one raw form to another that is more readable to facilitate data analysis. Steps in data wrangling include (1) handling missing values, (2) correcting data formats, (3) data normalization and standardisation and finally data bining where categorical values are grouped."
   ]
  },
  {
   "cell_type": "markdown",
   "metadata": {},
   "source": [
    "<h4> Handling Missing Values </h4>\n",
    "Values are said to be missing if in place of a value, there is a blank space, a value designated \"unknown\", \"zero\", \"?\" or NaN. During the preliminary exploration of the data, multiple values designated \"unknown\" accross various columns including competitors, budget_allocation and source. \n",
    "\n",
    "There are various ways in which missiong values can be handled. Missing values can be removed altogether or replaced by values such as mean, mode, educated guesses, midians and so forth. Missing values can also be ignored.\n",
    "\n",
    "In this excercise, missing values are replaced with the mode of th column. The reason we elect to replace mission values with the mode of a column is becuase the mode reflects the central tendency of the data. In addition, the values in our dataset are categorical as a result values such as mean cannot be computed. "
   ]
  },
  {
   "cell_type": "code",
   "execution_count": null,
   "metadata": {},
   "outputs": [],
   "source": [
    "# First we replace unknown values with the numpy function np.nan\n",
    "df = df.replace(\"Unknown\",np.nan)\n",
    "print(df.head(10))\n",
    "#Computing Mode\n",
    "mode=df.mode()\n",
    "#Replacing NaN with mode\n",
    "df = df.replace(np.nan,mode)\n",
    "print(df.head(10))"
   ]
  },
  {
   "cell_type": "markdown",
   "metadata": {},
   "source": [
    "<h4> Data Formating </h4>\n"
   ]
  },
  {
   "cell_type": "code",
   "execution_count": null,
   "metadata": {},
   "outputs": [],
   "source": []
  }
 ],
 "metadata": {
  "kernelspec": {
   "display_name": "Python 3",
   "language": "python",
   "name": "python3"
  },
  "language_info": {
   "codemirror_mode": {
    "name": "ipython",
    "version": 3
   },
   "file_extension": ".py",
   "mimetype": "text/x-python",
   "name": "python",
   "nbconvert_exporter": "python",
   "pygments_lexer": "ipython3",
   "version": "3.7.3"
  }
 },
 "nbformat": 4,
 "nbformat_minor": 2
}
